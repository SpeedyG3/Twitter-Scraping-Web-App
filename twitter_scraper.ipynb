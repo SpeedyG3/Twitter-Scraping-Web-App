{
 "cells": [
  {
   "cell_type": "code",
   "execution_count": 1,
   "id": "852fb34d-34b2-4443-8b81-2317b2187437",
   "metadata": {},
   "outputs": [],
   "source": [
    "import pandas as pd\n",
    "from ntscraper import Nitter"
   ]
  },
  {
   "cell_type": "code",
   "execution_count": 2,
   "id": "222ad4db-1475-4fd5-89f0-e88c815d3e70",
   "metadata": {},
   "outputs": [
    {
     "name": "stderr",
     "output_type": "stream",
     "text": [
      "Testing instances: 100%|██████████| 31/31 [02:02<00:00,  3.96s/it]\n"
     ]
    }
   ],
   "source": [
    "scraper = Nitter()"
   ]
  },
  {
   "cell_type": "code",
   "execution_count": 3,
   "id": "62452a25-64b6-42c9-b1b9-36674fb29a26",
   "metadata": {},
   "outputs": [
    {
     "name": "stdout",
     "output_type": "stream",
     "text": [
      "15-Dec-23 14:25:29 - No instance specified, using random instance https://nitter.ktachibana.party\n",
      "15-Dec-23 14:25:37 - Current stats for india: 10 tweets, 0 threads...\n"
     ]
    }
   ],
   "source": [
    "tweets = scraper.get_tweets(\"india\", mode = 'hashtag', number=10)"
   ]
  },
  {
   "cell_type": "code",
   "execution_count": 3,
   "id": "78abb7aa-1dee-4891-ae92-5857dcb0ce31",
   "metadata": {},
   "outputs": [],
   "source": [
    "def get_tweets(name, mode, no):\n",
    "    scraper = Nitter()\n",
    "    tweets = scraper.get_tweets(name, mode=mode, number=no)\n",
    "    final_tweets = []\n",
    "    for x in tweets['tweets']:\n",
    "        data = [x['link'], x['text'], x['date'], x['stats']['likes'], x['stats']['comments']]\n",
    "        final_tweets.append(data)\n",
    "    df = pd.DataFrame(final_tweets, columns=['twitter_link', 'text', 'date', 'likes', 'comments'])\n",
    "    return df"
   ]
  },
  {
   "cell_type": "code",
   "execution_count": 106,
   "id": "da5d2f6a-dd29-45d7-a3e3-ec8200ea9b71",
   "metadata": {},
   "outputs": [
    {
     "data": {
      "text/plain": [
       "'https://pbs.twimg.com/profile_images/1591558315254890500/ETIHb4Nl_400x400.jpg'"
      ]
     },
     "execution_count": 106,
     "metadata": {},
     "output_type": "execute_result"
    }
   ],
   "source": [
    "tweets['image']"
   ]
  },
  {
   "cell_type": "code",
   "execution_count": 7,
   "id": "eb741d7a-2d62-4a15-a947-81b2af790584",
   "metadata": {},
   "outputs": [],
   "source": [
    "def get_tweets(name, modes, no):\n",
    "    tweets = scraper.get_tweets(name, mode = modes, number=no)\n",
    "    final_tweets = []\n",
    "    for x in tweets['tweets']:\n",
    "        data = [x['link'], x['text'],x['date'],x['stats']['likes'],x['stats']['comments']]\n",
    "        final_tweets.append(data)\n",
    "    data= pd.DataFrame(final_tweets, columns =['twitter_link','text','date','likes','comments'])\n",
    "    return data"
   ]
  },
  {
   "cell_type": "code",
   "execution_count": 7,
   "id": "85196f3c-2058-44b4-b9b0-9a93f44453e7",
   "metadata": {},
   "outputs": [
    {
     "name": "stdout",
     "output_type": "stream",
     "text": [
      "15-Dec-23 14:26:21 - No instance specified, using random instance https://nitter.ktachibana.party\n",
      "15-Dec-23 14:26:29 - Current stats for JeffBezos: 6 tweets, 0 threads...\n"
     ]
    }
   ],
   "source": [
    "data = get_tweets('JeffBezos','user',6)"
   ]
  },
  {
   "cell_type": "code",
   "execution_count": 8,
   "id": "d23ebe69-b031-4da4-b61d-009fbc7350d7",
   "metadata": {},
   "outputs": [
    {
     "data": {
      "text/html": [
       "<div>\n",
       "<style scoped>\n",
       "    .dataframe tbody tr th:only-of-type {\n",
       "        vertical-align: middle;\n",
       "    }\n",
       "\n",
       "    .dataframe tbody tr th {\n",
       "        vertical-align: top;\n",
       "    }\n",
       "\n",
       "    .dataframe thead th {\n",
       "        text-align: right;\n",
       "    }\n",
       "</style>\n",
       "<table border=\"1\" class=\"dataframe\">\n",
       "  <thead>\n",
       "    <tr style=\"text-align: right;\">\n",
       "      <th></th>\n",
       "      <th>twitter_link</th>\n",
       "      <th>text</th>\n",
       "      <th>date</th>\n",
       "      <th>likes</th>\n",
       "      <th>comments</th>\n",
       "    </tr>\n",
       "  </thead>\n",
       "  <tbody>\n",
       "    <tr>\n",
       "      <th>0</th>\n",
       "      <td>https://twitter.com/SenBillNelson/status/17179...</td>\n",
       "      <td>Impressive visit to the @blueorigin Huntsville...</td>\n",
       "      <td>Oct 27, 2023 · 2:00 PM UTC</td>\n",
       "      <td>2828</td>\n",
       "      <td>1069</td>\n",
       "    </tr>\n",
       "    <tr>\n",
       "      <th>1</th>\n",
       "      <td>https://twitter.com/torybruno/status/166661245...</td>\n",
       "      <td>Nominal run!</td>\n",
       "      <td>Jun 8, 2023 · 1:05 AM UTC</td>\n",
       "      <td>3715</td>\n",
       "      <td>961</td>\n",
       "    </tr>\n",
       "    <tr>\n",
       "      <th>2</th>\n",
       "      <td>https://twitter.com/JeffBezos/status/165957630...</td>\n",
       "      <td>Honored to be on this journey with @NASA to la...</td>\n",
       "      <td>May 19, 2023 · 3:06 PM UTC</td>\n",
       "      <td>12647</td>\n",
       "      <td>4137</td>\n",
       "    </tr>\n",
       "    <tr>\n",
       "      <th>3</th>\n",
       "      <td>https://twitter.com/JeffBezos/status/162522482...</td>\n",
       "      <td>Big milestone. Kudos and congrats to the whole...</td>\n",
       "      <td>Feb 13, 2023 · 8:06 PM UTC</td>\n",
       "      <td>5040</td>\n",
       "      <td>3980</td>\n",
       "    </tr>\n",
       "    <tr>\n",
       "      <th>4</th>\n",
       "      <td>https://twitter.com/JeffBezos/status/162046673...</td>\n",
       "      <td>Episode 3 of Last of Us is unbelievably good s...</td>\n",
       "      <td>Jan 31, 2023 · 4:59 PM UTC</td>\n",
       "      <td>30032</td>\n",
       "      <td>2587</td>\n",
       "    </tr>\n",
       "    <tr>\n",
       "      <th>5</th>\n",
       "      <td>https://twitter.com/JeffBezos/status/161941882...</td>\n",
       "      <td>Thank you Bill and Tim. So nice. Gratitude.</td>\n",
       "      <td>Jan 28, 2023 · 7:35 PM UTC</td>\n",
       "      <td>2859</td>\n",
       "      <td>1143</td>\n",
       "    </tr>\n",
       "  </tbody>\n",
       "</table>\n",
       "</div>"
      ],
      "text/plain": [
       "                                        twitter_link  \\\n",
       "0  https://twitter.com/SenBillNelson/status/17179...   \n",
       "1  https://twitter.com/torybruno/status/166661245...   \n",
       "2  https://twitter.com/JeffBezos/status/165957630...   \n",
       "3  https://twitter.com/JeffBezos/status/162522482...   \n",
       "4  https://twitter.com/JeffBezos/status/162046673...   \n",
       "5  https://twitter.com/JeffBezos/status/161941882...   \n",
       "\n",
       "                                                text  \\\n",
       "0  Impressive visit to the @blueorigin Huntsville...   \n",
       "1                                       Nominal run!   \n",
       "2  Honored to be on this journey with @NASA to la...   \n",
       "3  Big milestone. Kudos and congrats to the whole...   \n",
       "4  Episode 3 of Last of Us is unbelievably good s...   \n",
       "5        Thank you Bill and Tim. So nice. Gratitude.   \n",
       "\n",
       "                         date  likes  comments  \n",
       "0  Oct 27, 2023 · 2:00 PM UTC   2828      1069  \n",
       "1   Jun 8, 2023 · 1:05 AM UTC   3715       961  \n",
       "2  May 19, 2023 · 3:06 PM UTC  12647      4137  \n",
       "3  Feb 13, 2023 · 8:06 PM UTC   5040      3980  \n",
       "4  Jan 31, 2023 · 4:59 PM UTC  30032      2587  \n",
       "5  Jan 28, 2023 · 7:35 PM UTC   2859      1143  "
      ]
     },
     "execution_count": 8,
     "metadata": {},
     "output_type": "execute_result"
    }
   ],
   "source": [
    "data"
   ]
  },
  {
   "cell_type": "code",
   "execution_count": 4,
   "id": "c4efb192-6e73-4b61-acf6-b9afb94214cf",
   "metadata": {},
   "outputs": [
    {
     "name": "stdout",
     "output_type": "stream",
     "text": [
      "15-Dec-23 22:02:06 - No instance specified, using random instance https://nitter.d420.de\n"
     ]
    }
   ],
   "source": [
    "t = scraper.get_profile_info('BillGates')"
   ]
  },
  {
   "cell_type": "code",
   "execution_count": 6,
   "id": "b6fa4f30",
   "metadata": {},
   "outputs": [
    {
     "data": {
      "text/plain": [
       "{'image': 'https://pbs.twimg.com/profile_images/1674815862879178752/nTGMV1Eo_400x400.jpg',\n",
       " 'name': 'Bill Gates',\n",
       " 'username': '@BillGates',\n",
       " 'id': '50393960',\n",
       " 'bio': \"Sharing things I'm learning through my foundation work and other interests.\",\n",
       " 'location': 'Seattle, WA',\n",
       " 'website': 'https://gatesnot.es/blog',\n",
       " 'joined': '6:44 PM - 24 Jun 2009',\n",
       " 'stats': {'tweets': 4440,\n",
       "  'following': 583,\n",
       "  'followers': 64437378,\n",
       "  'likes': 540,\n",
       "  'media': 1511}}"
      ]
     },
     "execution_count": 6,
     "metadata": {},
     "output_type": "execute_result"
    }
   ],
   "source": [
    "t"
   ]
  },
  {
   "cell_type": "code",
   "execution_count": 5,
   "id": "5bf304e1",
   "metadata": {},
   "outputs": [
    {
     "data": {
      "text/plain": [
       "'https://pbs.twimg.com/profile_images/1674815862879178752/nTGMV1Eo_400x400.jpg'"
      ]
     },
     "execution_count": 5,
     "metadata": {},
     "output_type": "execute_result"
    }
   ],
   "source": [
    "t['image']"
   ]
  },
  {
   "cell_type": "code",
   "execution_count": 8,
   "id": "c6975036",
   "metadata": {},
   "outputs": [
    {
     "data": {
      "text/plain": [
       "64437378"
      ]
     },
     "execution_count": 8,
     "metadata": {},
     "output_type": "execute_result"
    }
   ],
   "source": [
    "t['stats']['followers']"
   ]
  },
  {
   "cell_type": "code",
   "execution_count": 15,
   "id": "fa9e933c",
   "metadata": {},
   "outputs": [
    {
     "name": "stdout",
     "output_type": "stream",
     "text": [
      "15-Dec-23 21:34:23 - No instance specified, using random instance https://nitter.freedit.eu\n",
      "15-Dec-23 21:34:30 - Current stats for modi: 2 tweets, 0 threads...\n"
     ]
    },
    {
     "data": {
      "text/html": [
       "<div>\n",
       "<style scoped>\n",
       "    .dataframe tbody tr th:only-of-type {\n",
       "        vertical-align: middle;\n",
       "    }\n",
       "\n",
       "    .dataframe tbody tr th {\n",
       "        vertical-align: top;\n",
       "    }\n",
       "\n",
       "    .dataframe thead th {\n",
       "        text-align: right;\n",
       "    }\n",
       "</style>\n",
       "<table border=\"1\" class=\"dataframe\">\n",
       "  <thead>\n",
       "    <tr style=\"text-align: right;\">\n",
       "      <th></th>\n",
       "      <th>twitter_link</th>\n",
       "      <th>text</th>\n",
       "      <th>date</th>\n",
       "      <th>likes</th>\n",
       "      <th>comments</th>\n",
       "    </tr>\n",
       "  </thead>\n",
       "  <tbody>\n",
       "    <tr>\n",
       "      <th>0</th>\n",
       "      <td>https://twitter.com/MrSinha_/status/1735544963...</td>\n",
       "      <td>\"The day Modi-Yogi won't be there in power, we...</td>\n",
       "      <td>Dec 15, 2023 · 6:18 AM UTC</td>\n",
       "      <td>10138</td>\n",
       "      <td>698</td>\n",
       "    </tr>\n",
       "    <tr>\n",
       "      <th>1</th>\n",
       "      <td>https://twitter.com/NIA_India/status/173562636...</td>\n",
       "      <td>REQUEST FOR INFORMATION On 04.07.2010 the pers...</td>\n",
       "      <td>Dec 15, 2023 · 11:42 AM UTC</td>\n",
       "      <td>1901</td>\n",
       "      <td>35</td>\n",
       "    </tr>\n",
       "  </tbody>\n",
       "</table>\n",
       "</div>"
      ],
      "text/plain": [
       "                                        twitter_link  \\\n",
       "0  https://twitter.com/MrSinha_/status/1735544963...   \n",
       "1  https://twitter.com/NIA_India/status/173562636...   \n",
       "\n",
       "                                                text  \\\n",
       "0  \"The day Modi-Yogi won't be there in power, we...   \n",
       "1  REQUEST FOR INFORMATION On 04.07.2010 the pers...   \n",
       "\n",
       "                          date  likes  comments  \n",
       "0   Dec 15, 2023 · 6:18 AM UTC  10138       698  \n",
       "1  Dec 15, 2023 · 11:42 AM UTC   1901        35  "
      ]
     },
     "execution_count": 15,
     "metadata": {},
     "output_type": "execute_result"
    }
   ],
   "source": [
    "timepass = get_tweets('modi', 'term', 2)\n",
    "timepass"
   ]
  },
  {
   "cell_type": "code",
   "execution_count": 8,
   "id": "7327d6be-2e4e-414b-9eb0-eaeb96e0a71a",
   "metadata": {},
   "outputs": [
    {
     "name": "stdout",
     "output_type": "stream",
     "text": [
      "15-Dec-23 20:51:49 - No instance specified, using random instance https://nitter.io.lol\n",
      "15-Dec-23 20:51:56 - Current stats for imVkohli: 10 tweets, 0 threads...\n"
     ]
    }
   ],
   "source": [
    "data = get_tweets('imVkohli', 'user', 10)"
   ]
  },
  {
   "cell_type": "code",
   "execution_count": 10,
   "id": "662af161",
   "metadata": {},
   "outputs": [
    {
     "data": {
      "text/html": [
       "<div>\n",
       "<style scoped>\n",
       "    .dataframe tbody tr th:only-of-type {\n",
       "        vertical-align: middle;\n",
       "    }\n",
       "\n",
       "    .dataframe tbody tr th {\n",
       "        vertical-align: top;\n",
       "    }\n",
       "\n",
       "    .dataframe thead th {\n",
       "        text-align: right;\n",
       "    }\n",
       "</style>\n",
       "<table border=\"1\" class=\"dataframe\">\n",
       "  <thead>\n",
       "    <tr style=\"text-align: right;\">\n",
       "      <th></th>\n",
       "      <th>twitter_link</th>\n",
       "      <th>text</th>\n",
       "      <th>date</th>\n",
       "      <th>likes</th>\n",
       "      <th>comments</th>\n",
       "    </tr>\n",
       "  </thead>\n",
       "  <tbody>\n",
       "    <tr>\n",
       "      <th>0</th>\n",
       "      <td>https://twitter.com/imVkohli/status/1734800313...</td>\n",
       "      <td>The O’cean Energy Drink sustainable edition is...</td>\n",
       "      <td>Dec 13, 2023 · 5:00 AM UTC</td>\n",
       "      <td>12223</td>\n",
       "      <td>499</td>\n",
       "    </tr>\n",
       "    <tr>\n",
       "      <th>1</th>\n",
       "      <td>https://twitter.com/imVkohli/status/1734479723...</td>\n",
       "      <td>😍</td>\n",
       "      <td>Dec 12, 2023 · 7:46 AM UTC</td>\n",
       "      <td>236878</td>\n",
       "      <td>3762</td>\n",
       "    </tr>\n",
       "    <tr>\n",
       "      <th>2</th>\n",
       "      <td>https://twitter.com/imVkohli/status/1734438684...</td>\n",
       "      <td>❤️♾️</td>\n",
       "      <td>Dec 12, 2023 · 5:03 AM UTC</td>\n",
       "      <td>211409</td>\n",
       "      <td>3975</td>\n",
       "    </tr>\n",
       "    <tr>\n",
       "      <th>3</th>\n",
       "      <td>https://twitter.com/imVkohli/status/1734075540...</td>\n",
       "      <td>Fueling greatness, one day at a time. I'm with...</td>\n",
       "      <td>Dec 11, 2023 · 5:00 AM UTC</td>\n",
       "      <td>14150</td>\n",
       "      <td>681</td>\n",
       "    </tr>\n",
       "    <tr>\n",
       "      <th>4</th>\n",
       "      <td>https://twitter.com/imVkohli/status/1733711859...</td>\n",
       "      <td>Reasons got nothing on this one. Shop Wrogn at...</td>\n",
       "      <td>Dec 10, 2023 · 4:54 AM UTC</td>\n",
       "      <td>14850</td>\n",
       "      <td>486</td>\n",
       "    </tr>\n",
       "    <tr>\n",
       "      <th>5</th>\n",
       "      <td>https://twitter.com/imVkohli/status/1732263598...</td>\n",
       "      <td>Choosing BOLD is my game, always! 💪 Watch me a...</td>\n",
       "      <td>Dec 6, 2023 · 5:00 AM UTC</td>\n",
       "      <td>14224</td>\n",
       "      <td>597</td>\n",
       "    </tr>\n",
       "    <tr>\n",
       "      <th>6</th>\n",
       "      <td>https://twitter.com/imVkohli/status/1731538824...</td>\n",
       "      <td>Why settle for one thing when you can have it ...</td>\n",
       "      <td>Dec 4, 2023 · 5:00 AM UTC</td>\n",
       "      <td>14677</td>\n",
       "      <td>620</td>\n",
       "    </tr>\n",
       "    <tr>\n",
       "      <th>7</th>\n",
       "      <td>https://twitter.com/imVkohli/status/1730822129...</td>\n",
       "      <td>WTF! Am I being Delulu? If yes, then this is d...</td>\n",
       "      <td>Dec 2, 2023 · 5:32 AM UTC</td>\n",
       "      <td>16665</td>\n",
       "      <td>763</td>\n",
       "    </tr>\n",
       "    <tr>\n",
       "      <th>8</th>\n",
       "      <td>https://twitter.com/imVkohli/status/1729726884...</td>\n",
       "      <td>The good news is that O’cean Fruit Water has a...</td>\n",
       "      <td>Nov 29, 2023 · 5:00 AM UTC</td>\n",
       "      <td>23187</td>\n",
       "      <td>899</td>\n",
       "    </tr>\n",
       "    <tr>\n",
       "      <th>9</th>\n",
       "      <td>https://twitter.com/imVkohli/status/1721450997...</td>\n",
       "      <td>Thanks to each one of you for your kind wishes...</td>\n",
       "      <td>Nov 6, 2023 · 8:54 AM UTC</td>\n",
       "      <td>267435</td>\n",
       "      <td>10708</td>\n",
       "    </tr>\n",
       "  </tbody>\n",
       "</table>\n",
       "</div>"
      ],
      "text/plain": [
       "                                        twitter_link  \\\n",
       "0  https://twitter.com/imVkohli/status/1734800313...   \n",
       "1  https://twitter.com/imVkohli/status/1734479723...   \n",
       "2  https://twitter.com/imVkohli/status/1734438684...   \n",
       "3  https://twitter.com/imVkohli/status/1734075540...   \n",
       "4  https://twitter.com/imVkohli/status/1733711859...   \n",
       "5  https://twitter.com/imVkohli/status/1732263598...   \n",
       "6  https://twitter.com/imVkohli/status/1731538824...   \n",
       "7  https://twitter.com/imVkohli/status/1730822129...   \n",
       "8  https://twitter.com/imVkohli/status/1729726884...   \n",
       "9  https://twitter.com/imVkohli/status/1721450997...   \n",
       "\n",
       "                                                text  \\\n",
       "0  The O’cean Energy Drink sustainable edition is...   \n",
       "1                                                  😍   \n",
       "2                                               ❤️♾️   \n",
       "3  Fueling greatness, one day at a time. I'm with...   \n",
       "4  Reasons got nothing on this one. Shop Wrogn at...   \n",
       "5  Choosing BOLD is my game, always! 💪 Watch me a...   \n",
       "6  Why settle for one thing when you can have it ...   \n",
       "7  WTF! Am I being Delulu? If yes, then this is d...   \n",
       "8  The good news is that O’cean Fruit Water has a...   \n",
       "9  Thanks to each one of you for your kind wishes...   \n",
       "\n",
       "                         date   likes  comments  \n",
       "0  Dec 13, 2023 · 5:00 AM UTC   12223       499  \n",
       "1  Dec 12, 2023 · 7:46 AM UTC  236878      3762  \n",
       "2  Dec 12, 2023 · 5:03 AM UTC  211409      3975  \n",
       "3  Dec 11, 2023 · 5:00 AM UTC   14150       681  \n",
       "4  Dec 10, 2023 · 4:54 AM UTC   14850       486  \n",
       "5   Dec 6, 2023 · 5:00 AM UTC   14224       597  \n",
       "6   Dec 4, 2023 · 5:00 AM UTC   14677       620  \n",
       "7   Dec 2, 2023 · 5:32 AM UTC   16665       763  \n",
       "8  Nov 29, 2023 · 5:00 AM UTC   23187       899  \n",
       "9   Nov 6, 2023 · 8:54 AM UTC  267435     10708  "
      ]
     },
     "execution_count": 10,
     "metadata": {},
     "output_type": "execute_result"
    }
   ],
   "source": [
    "data"
   ]
  }
 ],
 "metadata": {
  "kernelspec": {
   "display_name": "Python 3 (ipykernel)",
   "language": "python",
   "name": "python3"
  },
  "language_info": {
   "codemirror_mode": {
    "name": "ipython",
    "version": 3
   },
   "file_extension": ".py",
   "mimetype": "text/x-python",
   "name": "python",
   "nbconvert_exporter": "python",
   "pygments_lexer": "ipython3",
   "version": "3.10.2"
  }
 },
 "nbformat": 4,
 "nbformat_minor": 5
}
